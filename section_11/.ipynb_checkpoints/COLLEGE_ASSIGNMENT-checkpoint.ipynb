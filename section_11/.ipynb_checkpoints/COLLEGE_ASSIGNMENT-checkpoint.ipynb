{
 "cells": [
  {
   "cell_type": "code",
   "execution_count": 1,
   "id": "4a2ace99",
   "metadata": {},
   "outputs": [],
   "source": [
    "import pandas as pd"
   ]
  },
  {
   "cell_type": "code",
   "execution_count": 2,
   "id": "564f75f8",
   "metadata": {},
   "outputs": [
    {
     "name": "stdout",
     "output_type": "stream",
     "text": [
      "   id  enrollment_id           name     time\n",
      "0   0              1  SANKET HALANI    7m 9s\n",
      "1   1              1  SANKET HALANI    7m 9s\n",
      "2   2              1  SANKET HALANI    2m 9s\n",
      "3   3              2    JAYKIN SONI  21m 23s\n",
      "4   4              2    JAYKIN SONI    2m 9s\n",
      "5   5              3  PULKIT SHARMA  40m 90s\n"
     ]
    }
   ],
   "source": [
    "data = pd.read_excel(\"demo.xlsx\")\n",
    "df = pd.DataFrame(data)\n",
    "print(df)"
   ]
  },
  {
   "cell_type": "code",
   "execution_count": 3,
   "id": "aca5913f",
   "metadata": {},
   "outputs": [
    {
     "name": "stdout",
     "output_type": "stream",
     "text": [
      "  merged_time\n",
      "0           7\n",
      "1           7\n",
      "2           2\n",
      "3          21\n",
      "4           2\n",
      "5          40\n"
     ]
    }
   ],
   "source": [
    "new_col = df[\"time\"].str.split(\"m \")\n",
    "for i in range(len(new_col)):\n",
    "    new_col[i] = int(new_col[i][:-1].pop(-1))\n",
    "new_df = pd.DataFrame({\"merged_time\":new_col})\n",
    "print(new_df)"
   ]
  },
  {
   "cell_type": "code",
   "execution_count": 4,
   "id": "c0741dd9",
   "metadata": {},
   "outputs": [
    {
     "name": "stdout",
     "output_type": "stream",
     "text": [
      "   id  enrollment_id           name merged_time\n",
      "0   0              1  SANKET HALANI           7\n",
      "1   1              1  SANKET HALANI           7\n",
      "2   2              1  SANKET HALANI           2\n",
      "3   3              2    JAYKIN SONI          21\n",
      "4   4              2    JAYKIN SONI           2\n",
      "5   5              3  PULKIT SHARMA          40\n"
     ]
    }
   ],
   "source": [
    "df = pd.concat([df,new_df],axis=\"columns\")\n",
    "df.drop(['time'],axis=1,inplace=True)\n",
    "print(df)"
   ]
  },
  {
   "cell_type": "code",
   "execution_count": 5,
   "id": "ce5d029d",
   "metadata": {},
   "outputs": [
    {
     "name": "stdout",
     "output_type": "stream",
     "text": [
      "               enrollment_id           name  merged_time\n",
      "enrollment_id                                           \n",
      "1                          1  SANKET HALANI           16\n",
      "2                          2    JAYKIN SONI           23\n",
      "3                          3  PULKIT SHARMA           40\n"
     ]
    }
   ],
   "source": [
    "aggregation_functions = {'enrollment_id': 'first', 'name': 'first','merged_time': 'sum'}\n",
    "final_report = df.groupby(df[\"enrollment_id\"]).aggregate(aggregation_functions)\n",
    "print(final_report)"
   ]
  },
  {
   "cell_type": "code",
   "execution_count": 6,
   "id": "a09d35f1",
   "metadata": {},
   "outputs": [
    {
     "name": "stdout",
     "output_type": "stream",
     "text": [
      "['ABSENT', 'PRESENT', 'PRESENT']\n",
      "  ATTENDANCE\n",
      "0     ABSENT\n",
      "1    PRESENT\n",
      "2    PRESENT\n"
     ]
    }
   ],
   "source": [
    "check_list = [NaN]\n",
    "for i in final_report[\"merged_time\"]:\n",
    "    if(i > 20):\n",
    "        check_list.append(\"PRESENT\")\n",
    "    else:\n",
    "        check_list.append(\"ABSENT\")\n",
    "print(check_list)\n",
    "check_list_merger = pd.DataFrame({\"ATTENDANCE\":check_list})\n",
    "print(check_list_merger)\n"
   ]
  },
  {
   "cell_type": "code",
   "execution_count": 7,
   "id": "cf5336b9",
   "metadata": {},
   "outputs": [
    {
     "name": "stdout",
     "output_type": "stream",
     "text": [
      "               enrollment_id           name  merged_time\n",
      "enrollment_id                                           \n",
      "1                          1  SANKET HALANI           16\n",
      "2                          2    JAYKIN SONI           23\n",
      "3                          3  PULKIT SHARMA           40\n"
     ]
    }
   ],
   "source": [
    "print(final_report)\n",
    "# final_report = pd.concat([final_report,check_list_merger],axis=\"columns\")\n",
    "# print(final_report)"
   ]
  }
 ],
 "metadata": {
  "kernelspec": {
   "display_name": "Python 3 (ipykernel)",
   "language": "python",
   "name": "python3"
  },
  "language_info": {
   "codemirror_mode": {
    "name": "ipython",
    "version": 3
   },
   "file_extension": ".py",
   "mimetype": "text/x-python",
   "name": "python",
   "nbconvert_exporter": "python",
   "pygments_lexer": "ipython3",
   "version": "3.9.7"
  }
 },
 "nbformat": 4,
 "nbformat_minor": 5
}
