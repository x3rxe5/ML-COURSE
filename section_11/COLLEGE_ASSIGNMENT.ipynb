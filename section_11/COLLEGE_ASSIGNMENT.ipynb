{
 "cells": [
  {
   "cell_type": "code",
   "execution_count": 1,
   "id": "c7832ea3",
   "metadata": {},
   "outputs": [],
   "source": [
    "import pandas as pd"
   ]
  },
  {
   "cell_type": "markdown",
   "id": "70c2cd1f",
   "metadata": {},
   "source": [
    "### Importing CSV files and drop unnecessary fields"
   ]
  },
  {
   "cell_type": "code",
   "execution_count": 2,
   "id": "2c4839c7",
   "metadata": {},
   "outputs": [],
   "source": [
    "data = pd.read_csv(\"24_1.csv\")\n",
    "df = pd.DataFrame(data)\n",
    "df.drop(['Join Time',\"Leave Time\",\"Duration\",\"Email\"],axis=1,inplace=True)"
   ]
  },
  {
   "cell_type": "code",
   "execution_count": 3,
   "id": "da511da2",
   "metadata": {},
   "outputs": [],
   "source": [
    "new_col = df[\"Role\"].str.split(\"m \")\n",
    "for i in range(len(new_col)):\n",
    "    if len(new_col[i]) > 1:\n",
    "        new_col[i] = int(new_col[i][:-1].pop(-1))\n",
    "    else:\n",
    "        new_col[i] = 0\n",
    "new_df = pd.DataFrame({\"merged_time\":new_col})    #merging time according Role Fields as given"
   ]
  },
  {
   "cell_type": "code",
   "execution_count": 4,
   "id": "e5165c7d",
   "metadata": {},
   "outputs": [],
   "source": [
    "df = pd.concat([df,new_df],axis=\"columns\")\n",
    "df.drop(['Role'],axis=1,inplace=True)"
   ]
  },
  {
   "cell_type": "markdown",
   "id": "b2dd169e",
   "metadata": {},
   "source": [
    "# Aggregating the functions "
   ]
  },
  {
   "cell_type": "code",
   "execution_count": 5,
   "id": "075e7675",
   "metadata": {},
   "outputs": [],
   "source": [
    "aggregation_functions = {'Full Name': 'first', 'Participant ID (UPN)': 'first','merged_time': 'sum'}\n",
    "final_report = df.groupby(df[\"Full Name\"]).aggregate(aggregation_functions)"
   ]
  },
  {
   "cell_type": "code",
   "execution_count": 6,
   "id": "0cbff706",
   "metadata": {},
   "outputs": [
    {
     "name": "stdout",
     "output_type": "stream",
     "text": [
      "(80, 3)\n"
     ]
    }
   ],
   "source": [
    "print(final_report.shape)"
   ]
  },
  {
   "cell_type": "code",
   "execution_count": 7,
   "id": "b96f9fe3",
   "metadata": {},
   "outputs": [],
   "source": [
    "# for creating index list for adding extra column\n",
    "index_list = [x for x in range(1,len(final_report.index)+1)]\n",
    "\n",
    "# Adding index to the final report list\n",
    "final_report[\"index\"] = index_list\n"
   ]
  },
  {
   "cell_type": "markdown",
   "id": "6f65173f",
   "metadata": {},
   "source": [
    "### Logic Based on merged_time and merge into last report"
   ]
  },
  {
   "cell_type": "code",
   "execution_count": 8,
   "id": "c1991016",
   "metadata": {
    "scrolled": true
   },
   "outputs": [],
   "source": [
    "check_list = []\n",
    "for i in final_report[\"merged_time\"]:\n",
    "    if(i > 20):\n",
    "        check_list.append(\"PRESENT\")\n",
    "    else:\n",
    "        check_list.append(\"ABSENT\")\n",
    "        \n",
    "check_list_merger = pd.DataFrame({\"ATTENDANCE\":check_list,\"index\":index_list})"
   ]
  },
  {
   "cell_type": "code",
   "execution_count": 9,
   "id": "dceace53",
   "metadata": {
    "scrolled": true
   },
   "outputs": [],
   "source": [
    "final_report = final_report.merge(check_list_merger, how='inner', on='index')\n",
    "final_report.drop([\"index\",\"merged_time\"],axis=1,inplace=True)"
   ]
  },
  {
   "cell_type": "code",
   "execution_count": 10,
   "id": "3d3ec53b",
   "metadata": {},
   "outputs": [],
   "source": [
    "final_report.to_csv(\"output.csv\",index=False)"
   ]
  }
 ],
 "metadata": {
  "kernelspec": {
   "display_name": "Python 3 (ipykernel)",
   "language": "python",
   "name": "python3"
  },
  "language_info": {
   "codemirror_mode": {
    "name": "ipython",
    "version": 3
   },
   "file_extension": ".py",
   "mimetype": "text/x-python",
   "name": "python",
   "nbconvert_exporter": "python",
   "pygments_lexer": "ipython3",
   "version": "3.9.7"
  }
 },
 "nbformat": 4,
 "nbformat_minor": 5
}
