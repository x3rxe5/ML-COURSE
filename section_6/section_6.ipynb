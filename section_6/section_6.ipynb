{
 "cells": [
  {
   "cell_type": "code",
   "execution_count": 266,
   "id": "0a7115ce",
   "metadata": {},
   "outputs": [],
   "source": [
    "import numpy as np\n",
    "import pandas as pd\n",
    "import matplotlib.pyplot as plt\n",
    "from sklearn.linear_model import LinearRegression"
   ]
  },
  {
   "cell_type": "code",
   "execution_count": 267,
   "id": "34936090",
   "metadata": {},
   "outputs": [],
   "source": [
    "df = pd.read_csv(\"homeprices.csv\")"
   ]
  },
  {
   "cell_type": "code",
   "execution_count": 268,
   "id": "64161dbe",
   "metadata": {},
   "outputs": [],
   "source": [
    "dummies = pd.get_dummies(df.town)"
   ]
  },
  {
   "cell_type": "code",
   "execution_count": 269,
   "id": "bb2b11ee",
   "metadata": {},
   "outputs": [],
   "source": [
    "merged_df = pd.concat([df,dummies],axis=\"columns\")\n",
    "final = merged_df.drop(['town','west windsor'],axis=\"columns\")"
   ]
  },
  {
   "cell_type": "code",
   "execution_count": 270,
   "id": "b28366d6",
   "metadata": {},
   "outputs": [],
   "source": [
    "model = LinearRegression()"
   ]
  },
  {
   "cell_type": "code",
   "execution_count": 271,
   "id": "6cb3c21c",
   "metadata": {},
   "outputs": [],
   "source": [
    "X = final.drop('price',axis=\"columns\")\n",
    "y = final.price"
   ]
  },
  {
   "cell_type": "code",
   "execution_count": 272,
   "id": "5657b3e2",
   "metadata": {},
   "outputs": [
    {
     "data": {
      "text/plain": [
       "LinearRegression()"
      ]
     },
     "execution_count": 272,
     "metadata": {},
     "output_type": "execute_result"
    }
   ],
   "source": [
    "model.fit(X,y)"
   ]
  },
  {
   "cell_type": "code",
   "execution_count": 273,
   "id": "2bf0e6dd",
   "metadata": {},
   "outputs": [
    {
     "data": {
      "text/plain": [
       "array([590775.63964739])"
      ]
     },
     "execution_count": 273,
     "metadata": {},
     "output_type": "execute_result"
    }
   ],
   "source": [
    "model.predict([[2800,0,1]])"
   ]
  },
  {
   "cell_type": "code",
   "execution_count": 274,
   "id": "65596e23",
   "metadata": {},
   "outputs": [
    {
     "data": {
      "text/plain": [
       "array([681241.66845839])"
      ]
     },
     "execution_count": 274,
     "metadata": {},
     "output_type": "execute_result"
    }
   ],
   "source": [
    "model.predict([[3400,0,0]])"
   ]
  },
  {
   "cell_type": "code",
   "execution_count": 275,
   "id": "9c6beff7",
   "metadata": {},
   "outputs": [
    {
     "data": {
      "text/plain": [
       "0.9573929037221873"
      ]
     },
     "execution_count": 275,
     "metadata": {},
     "output_type": "execute_result"
    }
   ],
   "source": [
    "model.score(X,y) # for predict the model score in the end of the session"
   ]
  },
  {
   "cell_type": "markdown",
   "id": "19fe79aa",
   "metadata": {},
   "source": [
    "# Without ColumnTransfer as VIdeo\n",
    "### codebasics machine learning tutorial"
   ]
  },
  {
   "cell_type": "code",
   "execution_count": 276,
   "id": "9a559819",
   "metadata": {},
   "outputs": [],
   "source": [
    "#from sklearn.preprocessing import LabelEncoder"
   ]
  },
  {
   "cell_type": "code",
   "execution_count": 277,
   "id": "4c0f8c65",
   "metadata": {},
   "outputs": [],
   "source": [
    "#le = LabelEncoder()"
   ]
  },
  {
   "cell_type": "code",
   "execution_count": 278,
   "id": "3a4dbf8d",
   "metadata": {},
   "outputs": [],
   "source": [
    "#dfle = df \n",
    "#dfle.town = le.fit_transform(dfle.town)"
   ]
  },
  {
   "cell_type": "code",
   "execution_count": 279,
   "id": "3cc2ddd4",
   "metadata": {},
   "outputs": [],
   "source": [
    "#X = dfle[['town','area']].values\n",
    "#y = dfle.price"
   ]
  },
  {
   "cell_type": "code",
   "execution_count": 280,
   "id": "5203f18f",
   "metadata": {},
   "outputs": [],
   "source": [
    "from sklearn.preprocessing import OneHotEncoder\n",
    "from sklearn.compose import ColumnTransformer\n",
    "#ct = ColumnTransformer([(dfle[['town','area']].values, OneHotEncoder(), [0])])\n",
    "#ohe = OneHotEncoder()\n",
    "#\n",
    "\n",
    "#print(ct)"
   ]
  },
  {
   "cell_type": "code",
   "execution_count": 281,
   "id": "06ad2eac",
   "metadata": {},
   "outputs": [],
   "source": [
    "#dataset = np.array(ct.fit_transform(X), dtype = np.str)"
   ]
  },
  {
   "cell_type": "markdown",
   "id": "6ed644e3",
   "metadata": {},
   "source": [
    "# From The ColumnTransformer"
   ]
  },
  {
   "cell_type": "code",
   "execution_count": 282,
   "id": "5d8d153a",
   "metadata": {},
   "outputs": [],
   "source": [
    "from sklearn.preprocessing import OneHotEncoder\n",
    "from sklearn.compose import ColumnTransformer"
   ]
  },
  {
   "cell_type": "code",
   "execution_count": 283,
   "id": "a3b7e9ed",
   "metadata": {},
   "outputs": [],
   "source": [
    "ct = ColumnTransformer([('encoder', OneHotEncoder(), [0])], remainder='passthrough')"
   ]
  },
  {
   "cell_type": "code",
   "execution_count": 284,
   "id": "292feb2a",
   "metadata": {},
   "outputs": [],
   "source": [
    "X = df[['town','area']]\n",
    "X = np.array(ct.fit_transform(X))\n",
    "y = df.price"
   ]
  },
  {
   "cell_type": "code",
   "execution_count": 285,
   "id": "08edcfb9",
   "metadata": {},
   "outputs": [],
   "source": [
    "X = X[:,1:]"
   ]
  },
  {
   "cell_type": "code",
   "execution_count": 287,
   "id": "58a84c47",
   "metadata": {},
   "outputs": [
    {
     "data": {
      "text/plain": [
       "LinearRegression()"
      ]
     },
     "execution_count": 287,
     "metadata": {},
     "output_type": "execute_result"
    }
   ],
   "source": [
    "model.fit(X,y)"
   ]
  },
  {
   "cell_type": "code",
   "execution_count": 288,
   "id": "12c96e68",
   "metadata": {},
   "outputs": [
    {
     "data": {
      "text/plain": [
       "array([590775.63964739])"
      ]
     },
     "execution_count": 288,
     "metadata": {},
     "output_type": "execute_result"
    }
   ],
   "source": [
    "model.predict([[1,0,2800]])"
   ]
  },
  {
   "cell_type": "code",
   "execution_count": 289,
   "id": "5975d9c5",
   "metadata": {},
   "outputs": [
    {
     "data": {
      "text/plain": [
       "0.9573929037221873"
      ]
     },
     "execution_count": 289,
     "metadata": {},
     "output_type": "execute_result"
    }
   ],
   "source": [
    "model.score(X,y)"
   ]
  },
  {
   "cell_type": "code",
   "execution_count": null,
   "id": "3c5ccb6b",
   "metadata": {},
   "outputs": [],
   "source": []
  }
 ],
 "metadata": {
  "kernelspec": {
   "display_name": "Python 3 (ipykernel)",
   "language": "python",
   "name": "python3"
  },
  "language_info": {
   "codemirror_mode": {
    "name": "ipython",
    "version": 3
   },
   "file_extension": ".py",
   "mimetype": "text/x-python",
   "name": "python",
   "nbconvert_exporter": "python",
   "pygments_lexer": "ipython3",
   "version": "3.9.7"
  }
 },
 "nbformat": 4,
 "nbformat_minor": 5
}
