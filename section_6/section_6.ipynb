{
 "cells": [
  {
   "cell_type": "code",
   "execution_count": 266,
   "id": "0a7115ce",
   "metadata": {},
   "outputs": [],
   "source": [
    "import numpy as np\n",
    "import pandas as pd\n",
    "import matplotlib.pyplot as plt\n",
    "from sklearn.linear_model import LinearRegression"
   ]
  },
  {
   "cell_type": "code",
   "execution_count": 267,
   "id": "34936090",
   "metadata": {},
   "outputs": [],
   "source": [
    "df = pd.read_csv(\"homeprices.csv\")"
   ]
  },
  {
   "cell_type": "code",
   "execution_count": 268,
   "id": "583d1e8e",
   "metadata": {},
   "outputs": [],
   "source": [
    "dummies = pd.get_dummies(df.town)"
   ]
  },
  {
   "cell_type": "code",
   "execution_count": 269,
   "id": "c3dcdc6c",
   "metadata": {},
   "outputs": [],
   "source": [
    "merged_df = pd.concat([df,dummies],axis=\"columns\")\n",
    "final = merged_df.drop(['town','west windsor'],axis=\"columns\")"
   ]
  },
  {
   "cell_type": "code",
   "execution_count": 270,
   "id": "0103ec5b",
   "metadata": {},
   "outputs": [],
   "source": [
    "model = LinearRegression()"
   ]
  },
  {
   "cell_type": "code",
   "execution_count": 271,
   "id": "f2f9e75c",
   "metadata": {},
   "outputs": [],
   "source": [
    "X = final.drop('price',axis=\"columns\")\n",
    "y = final.price"
   ]
  },
  {
   "cell_type": "code",
   "execution_count": 272,
   "id": "19a9ef27",
   "metadata": {},
   "outputs": [
    {
     "data": {
      "text/plain": [
       "LinearRegression()"
      ]
     },
     "execution_count": 272,
     "metadata": {},
     "output_type": "execute_result"
    }
   ],
   "source": [
    "model.fit(X,y)"
   ]
  },
  {
   "cell_type": "code",
   "execution_count": 273,
   "id": "7a5c8737",
   "metadata": {},
   "outputs": [
    {
     "data": {
      "text/plain": [
       "array([590775.63964739])"
      ]
     },
     "execution_count": 273,
     "metadata": {},
     "output_type": "execute_result"
    }
   ],
   "source": [
    "model.predict([[2800,0,1]])"
   ]
  },
  {
   "cell_type": "code",
   "execution_count": 274,
   "id": "4499e4f4",
   "metadata": {},
   "outputs": [
    {
     "data": {
      "text/plain": [
       "array([681241.66845839])"
      ]
     },
     "execution_count": 274,
     "metadata": {},
     "output_type": "execute_result"
    }
   ],
   "source": [
    "model.predict([[3400,0,0]])"
   ]
  },
  {
   "cell_type": "code",
   "execution_count": 275,
   "id": "d753a884",
   "metadata": {},
   "outputs": [
    {
     "data": {
      "text/plain": [
       "0.9573929037221873"
      ]
     },
     "execution_count": 275,
     "metadata": {},
     "output_type": "execute_result"
    }
   ],
   "source": [
    "model.score(X,y) # for predict the model score in the end of the session"
   ]
  },
  {
   "cell_type": "markdown",
   "id": "1571e95f",
   "metadata": {},
   "source": [
    "# Without ColumnTransfer as VIdeo\n",
    "### codebasics machine learning tutorial"
   ]
  },
  {
   "cell_type": "code",
   "execution_count": 276,
   "id": "d70bbd42",
   "metadata": {},
   "outputs": [],
   "source": [
    "#from sklearn.preprocessing import LabelEncoder"
   ]
  },
  {
   "cell_type": "code",
   "execution_count": 277,
   "id": "2f5d6f5a",
   "metadata": {},
   "outputs": [],
   "source": [
    "#le = LabelEncoder()"
   ]
  },
  {
   "cell_type": "code",
   "execution_count": 278,
   "id": "bd958601",
   "metadata": {},
   "outputs": [],
   "source": [
    "#dfle = df \n",
    "#dfle.town = le.fit_transform(dfle.town)"
   ]
  },
  {
   "cell_type": "code",
   "execution_count": 279,
   "id": "352466b8",
   "metadata": {},
   "outputs": [],
   "source": [
    "#X = dfle[['town','area']].values\n",
    "#y = dfle.price"
   ]
  },
  {
   "cell_type": "code",
   "execution_count": 280,
   "id": "b67ca917",
   "metadata": {},
   "outputs": [],
   "source": [
    "from sklearn.preprocessing import OneHotEncoder\n",
    "from sklearn.compose import ColumnTransformer\n",
    "#ct = ColumnTransformer([(dfle[['town','area']].values, OneHotEncoder(), [0])])\n",
    "#ohe = OneHotEncoder()\n",
    "#\n",
    "\n",
    "#print(ct)"
   ]
  },
  {
   "cell_type": "code",
   "execution_count": 281,
   "id": "99ea9b5c",
   "metadata": {},
   "outputs": [],
   "source": [
    "#dataset = np.array(ct.fit_transform(X), dtype = np.str)"
   ]
  },
  {
   "cell_type": "markdown",
   "id": "464f07a7",
   "metadata": {},
   "source": [
    "# From The ColumnTransformer"
   ]
  },
  {
   "cell_type": "code",
   "execution_count": 282,
   "id": "401b6492",
   "metadata": {},
   "outputs": [],
   "source": [
    "from sklearn.preprocessing import OneHotEncoder\n",
    "from sklearn.compose import ColumnTransformer"
   ]
  },
  {
   "cell_type": "code",
   "execution_count": 283,
   "id": "ed465348",
   "metadata": {},
   "outputs": [],
   "source": [
    "ct = ColumnTransformer([('encoder', OneHotEncoder(), [0])], remainder='passthrough')"
   ]
  },
  {
   "cell_type": "code",
   "execution_count": 284,
   "id": "61dd3e4b",
   "metadata": {},
   "outputs": [],
   "source": [
    "X = df[['town','area']]\n",
    "X = np.array(ct.fit_transform(X))\n",
    "y = df.price"
   ]
  },
  {
   "cell_type": "code",
   "execution_count": 285,
   "id": "e95e0ff7",
   "metadata": {},
   "outputs": [],
   "source": [
    "X = X[:,1:]"
   ]
  },
  {
   "cell_type": "code",
   "execution_count": 287,
   "id": "30b4e24b",
   "metadata": {},
   "outputs": [
    {
     "data": {
      "text/plain": [
       "LinearRegression()"
      ]
     },
     "execution_count": 287,
     "metadata": {},
     "output_type": "execute_result"
    }
   ],
   "source": [
    "model.fit(X,y)"
   ]
  },
  {
   "cell_type": "code",
   "execution_count": 288,
   "id": "bbb43fcb",
   "metadata": {},
   "outputs": [
    {
     "data": {
      "text/plain": [
       "array([590775.63964739])"
      ]
     },
     "execution_count": 288,
     "metadata": {},
     "output_type": "execute_result"
    }
   ],
   "source": [
    "model.predict([[1,0,2800]])"
   ]
  },
  {
   "cell_type": "code",
   "execution_count": null,
   "id": "45b50bb2",
   "metadata": {},
   "outputs": [],
   "source": []
  }
 ],
 "metadata": {
  "kernelspec": {
   "display_name": "Python 3 (ipykernel)",
   "language": "python",
   "name": "python3"
  },
  "language_info": {
   "codemirror_mode": {
    "name": "ipython",
    "version": 3
   },
   "file_extension": ".py",
   "mimetype": "text/x-python",
   "name": "python",
   "nbconvert_exporter": "python",
   "pygments_lexer": "ipython3",
   "version": "3.9.7"
  }
 },
 "nbformat": 4,
 "nbformat_minor": 5
}
